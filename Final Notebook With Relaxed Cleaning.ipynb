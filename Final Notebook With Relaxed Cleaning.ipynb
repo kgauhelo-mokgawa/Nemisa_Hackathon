{
 "cells": [
  {
   "cell_type": "code",
   "execution_count": 2,
   "metadata": {},
   "outputs": [],
   "source": [
    "import pandas as pd\n",
    "import numpy as np\n",
    "import matplotlib.pyplot as plt\n",
    "import seaborn as sns\n",
    "%matplotlib inline"
   ]
  },
  {
   "cell_type": "code",
   "execution_count": 3,
   "metadata": {},
   "outputs": [],
   "source": [
    "data = pd.read_excel(r'Household Socio Economic Data.xlsx')"
   ]
  },
  {
   "cell_type": "code",
   "execution_count": 3,
   "metadata": {},
   "outputs": [
    {
     "name": "stdout",
     "output_type": "stream",
     "text": [
      "<class 'pandas.core.frame.DataFrame'>\n",
      "RangeIndex: 11634 entries, 0 to 11633\n",
      "Data columns (total 17 columns):\n",
      " #   Column                     Non-Null Count  Dtype         \n",
      "---  ------                     --------------  -----         \n",
      " 0   HouseholdId                11634 non-null  int64         \n",
      " 1   ObseravtionDate            11634 non-null  datetime64[ns]\n",
      " 2   WaterSource                11634 non-null  int64         \n",
      " 3   Toilet                     11634 non-null  int64         \n",
      " 4   ConnectedToGrid            11228 non-null  float64       \n",
      " 5   CookingFuel                11634 non-null  int64         \n",
      " 6   WallMaterial               11634 non-null  int64         \n",
      " 7   FloorMaterial              11634 non-null  int64         \n",
      " 8   Bedrooms                   11384 non-null  float64       \n",
      " 9   Crime                      11634 non-null  int64         \n",
      " 10  FinancialStatus            11634 non-null  int64         \n",
      " 11  CutMeals                   11437 non-null  float64       \n",
      " 12  CutMealsFrequency          11634 non-null  int64         \n",
      " 13  NotEat                     187 non-null    float64       \n",
      " 14  NotEatFrequency            11634 non-null  int64         \n",
      " 15  ChildMealSkipCut           124 non-null    float64       \n",
      " 16  ChildMealSkipCutFrequency  11634 non-null  int64         \n",
      "dtypes: datetime64[ns](1), float64(5), int64(11)\n",
      "memory usage: 1.5 MB\n"
     ]
    }
   ],
   "source": [
    "data.info()"
   ]
  },
  {
   "cell_type": "code",
   "execution_count": 4,
   "metadata": {},
   "outputs": [
    {
     "data": {
      "text/plain": [
       "(11634, 17)"
      ]
     },
     "execution_count": 4,
     "metadata": {},
     "output_type": "execute_result"
    }
   ],
   "source": [
    "data.shape"
   ]
  },
  {
   "cell_type": "code",
   "execution_count": 5,
   "metadata": {},
   "outputs": [
    {
     "data": {
      "text/html": [
       "<div>\n",
       "<style scoped>\n",
       "    .dataframe tbody tr th:only-of-type {\n",
       "        vertical-align: middle;\n",
       "    }\n",
       "\n",
       "    .dataframe tbody tr th {\n",
       "        vertical-align: top;\n",
       "    }\n",
       "\n",
       "    .dataframe thead th {\n",
       "        text-align: right;\n",
       "    }\n",
       "</style>\n",
       "<table border=\"1\" class=\"dataframe\">\n",
       "  <thead>\n",
       "    <tr style=\"text-align: right;\">\n",
       "      <th></th>\n",
       "      <th>HouseholdId</th>\n",
       "      <th>ObseravtionDate</th>\n",
       "      <th>WaterSource</th>\n",
       "      <th>Toilet</th>\n",
       "      <th>ConnectedToGrid</th>\n",
       "      <th>CookingFuel</th>\n",
       "      <th>WallMaterial</th>\n",
       "      <th>FloorMaterial</th>\n",
       "      <th>Bedrooms</th>\n",
       "      <th>Crime</th>\n",
       "      <th>FinancialStatus</th>\n",
       "      <th>CutMeals</th>\n",
       "      <th>CutMealsFrequency</th>\n",
       "      <th>NotEat</th>\n",
       "      <th>NotEatFrequency</th>\n",
       "      <th>ChildMealSkipCut</th>\n",
       "      <th>ChildMealSkipCutFrequency</th>\n",
       "    </tr>\n",
       "  </thead>\n",
       "  <tbody>\n",
       "    <tr>\n",
       "      <th>0</th>\n",
       "      <td>111000</td>\n",
       "      <td>2017-10-26</td>\n",
       "      <td>2</td>\n",
       "      <td>2</td>\n",
       "      <td>1.0</td>\n",
       "      <td>4</td>\n",
       "      <td>3</td>\n",
       "      <td>2</td>\n",
       "      <td>2.0</td>\n",
       "      <td>0</td>\n",
       "      <td>0</td>\n",
       "      <td>0.0</td>\n",
       "      <td>0</td>\n",
       "      <td>NaN</td>\n",
       "      <td>0</td>\n",
       "      <td>NaN</td>\n",
       "      <td>0</td>\n",
       "    </tr>\n",
       "    <tr>\n",
       "      <th>1</th>\n",
       "      <td>111001</td>\n",
       "      <td>2017-10-24</td>\n",
       "      <td>2</td>\n",
       "      <td>2</td>\n",
       "      <td>1.0</td>\n",
       "      <td>4</td>\n",
       "      <td>1</td>\n",
       "      <td>2</td>\n",
       "      <td>4.0</td>\n",
       "      <td>0</td>\n",
       "      <td>0</td>\n",
       "      <td>0.0</td>\n",
       "      <td>0</td>\n",
       "      <td>NaN</td>\n",
       "      <td>0</td>\n",
       "      <td>NaN</td>\n",
       "      <td>0</td>\n",
       "    </tr>\n",
       "    <tr>\n",
       "      <th>2</th>\n",
       "      <td>111002</td>\n",
       "      <td>2017-10-26</td>\n",
       "      <td>2</td>\n",
       "      <td>2</td>\n",
       "      <td>1.0</td>\n",
       "      <td>4</td>\n",
       "      <td>1</td>\n",
       "      <td>2</td>\n",
       "      <td>3.0</td>\n",
       "      <td>0</td>\n",
       "      <td>0</td>\n",
       "      <td>0.0</td>\n",
       "      <td>0</td>\n",
       "      <td>NaN</td>\n",
       "      <td>0</td>\n",
       "      <td>NaN</td>\n",
       "      <td>0</td>\n",
       "    </tr>\n",
       "    <tr>\n",
       "      <th>3</th>\n",
       "      <td>111003</td>\n",
       "      <td>2017-10-26</td>\n",
       "      <td>2</td>\n",
       "      <td>2</td>\n",
       "      <td>1.0</td>\n",
       "      <td>4</td>\n",
       "      <td>1</td>\n",
       "      <td>2</td>\n",
       "      <td>5.0</td>\n",
       "      <td>0</td>\n",
       "      <td>0</td>\n",
       "      <td>0.0</td>\n",
       "      <td>0</td>\n",
       "      <td>NaN</td>\n",
       "      <td>0</td>\n",
       "      <td>NaN</td>\n",
       "      <td>0</td>\n",
       "    </tr>\n",
       "    <tr>\n",
       "      <th>4</th>\n",
       "      <td>111004</td>\n",
       "      <td>2017-10-26</td>\n",
       "      <td>2</td>\n",
       "      <td>2</td>\n",
       "      <td>1.0</td>\n",
       "      <td>4</td>\n",
       "      <td>1</td>\n",
       "      <td>2</td>\n",
       "      <td>6.0</td>\n",
       "      <td>0</td>\n",
       "      <td>0</td>\n",
       "      <td>0.0</td>\n",
       "      <td>0</td>\n",
       "      <td>NaN</td>\n",
       "      <td>0</td>\n",
       "      <td>NaN</td>\n",
       "      <td>0</td>\n",
       "    </tr>\n",
       "  </tbody>\n",
       "</table>\n",
       "</div>"
      ],
      "text/plain": [
       "   HouseholdId ObseravtionDate  WaterSource  Toilet  ConnectedToGrid  \\\n",
       "0       111000      2017-10-26            2       2              1.0   \n",
       "1       111001      2017-10-24            2       2              1.0   \n",
       "2       111002      2017-10-26            2       2              1.0   \n",
       "3       111003      2017-10-26            2       2              1.0   \n",
       "4       111004      2017-10-26            2       2              1.0   \n",
       "\n",
       "   CookingFuel  WallMaterial  FloorMaterial  Bedrooms  Crime  FinancialStatus  \\\n",
       "0            4             3              2       2.0      0                0   \n",
       "1            4             1              2       4.0      0                0   \n",
       "2            4             1              2       3.0      0                0   \n",
       "3            4             1              2       5.0      0                0   \n",
       "4            4             1              2       6.0      0                0   \n",
       "\n",
       "   CutMeals  CutMealsFrequency  NotEat  NotEatFrequency  ChildMealSkipCut  \\\n",
       "0       0.0                  0     NaN                0               NaN   \n",
       "1       0.0                  0     NaN                0               NaN   \n",
       "2       0.0                  0     NaN                0               NaN   \n",
       "3       0.0                  0     NaN                0               NaN   \n",
       "4       0.0                  0     NaN                0               NaN   \n",
       "\n",
       "   ChildMealSkipCutFrequency  \n",
       "0                          0  \n",
       "1                          0  \n",
       "2                          0  \n",
       "3                          0  \n",
       "4                          0  "
      ]
     },
     "execution_count": 5,
     "metadata": {},
     "output_type": "execute_result"
    }
   ],
   "source": [
    "data.head()"
   ]
  },
  {
   "cell_type": "code",
   "execution_count": 6,
   "metadata": {},
   "outputs": [
    {
     "data": {
      "text/html": [
       "<div>\n",
       "<style scoped>\n",
       "    .dataframe tbody tr th:only-of-type {\n",
       "        vertical-align: middle;\n",
       "    }\n",
       "\n",
       "    .dataframe tbody tr th {\n",
       "        vertical-align: top;\n",
       "    }\n",
       "\n",
       "    .dataframe thead th {\n",
       "        text-align: right;\n",
       "    }\n",
       "</style>\n",
       "<table border=\"1\" class=\"dataframe\">\n",
       "  <thead>\n",
       "    <tr style=\"text-align: right;\">\n",
       "      <th></th>\n",
       "      <th>HouseholdId</th>\n",
       "      <th>ObseravtionDate</th>\n",
       "      <th>WaterSource</th>\n",
       "      <th>Toilet</th>\n",
       "      <th>ConnectedToGrid</th>\n",
       "      <th>CookingFuel</th>\n",
       "      <th>WallMaterial</th>\n",
       "      <th>FloorMaterial</th>\n",
       "      <th>Bedrooms</th>\n",
       "      <th>Crime</th>\n",
       "      <th>FinancialStatus</th>\n",
       "      <th>CutMeals</th>\n",
       "      <th>CutMealsFrequency</th>\n",
       "      <th>NotEat</th>\n",
       "      <th>NotEatFrequency</th>\n",
       "      <th>ChildMealSkipCut</th>\n",
       "      <th>ChildMealSkipCutFrequency</th>\n",
       "    </tr>\n",
       "  </thead>\n",
       "  <tbody>\n",
       "    <tr>\n",
       "      <th>11629</th>\n",
       "      <td>122629</td>\n",
       "      <td>2015-12-16</td>\n",
       "      <td>2</td>\n",
       "      <td>2</td>\n",
       "      <td>1.0</td>\n",
       "      <td>4</td>\n",
       "      <td>1</td>\n",
       "      <td>2</td>\n",
       "      <td>3.0</td>\n",
       "      <td>0</td>\n",
       "      <td>0</td>\n",
       "      <td>0.0</td>\n",
       "      <td>0</td>\n",
       "      <td>NaN</td>\n",
       "      <td>0</td>\n",
       "      <td>NaN</td>\n",
       "      <td>0</td>\n",
       "    </tr>\n",
       "    <tr>\n",
       "      <th>11630</th>\n",
       "      <td>122630</td>\n",
       "      <td>2016-05-05</td>\n",
       "      <td>2</td>\n",
       "      <td>2</td>\n",
       "      <td>1.0</td>\n",
       "      <td>4</td>\n",
       "      <td>1</td>\n",
       "      <td>2</td>\n",
       "      <td>6.0</td>\n",
       "      <td>0</td>\n",
       "      <td>0</td>\n",
       "      <td>0.0</td>\n",
       "      <td>0</td>\n",
       "      <td>NaN</td>\n",
       "      <td>0</td>\n",
       "      <td>NaN</td>\n",
       "      <td>0</td>\n",
       "    </tr>\n",
       "    <tr>\n",
       "      <th>11631</th>\n",
       "      <td>122631</td>\n",
       "      <td>2015-12-09</td>\n",
       "      <td>2</td>\n",
       "      <td>1</td>\n",
       "      <td>1.0</td>\n",
       "      <td>4</td>\n",
       "      <td>1</td>\n",
       "      <td>2</td>\n",
       "      <td>2.0</td>\n",
       "      <td>0</td>\n",
       "      <td>0</td>\n",
       "      <td>0.0</td>\n",
       "      <td>0</td>\n",
       "      <td>NaN</td>\n",
       "      <td>0</td>\n",
       "      <td>NaN</td>\n",
       "      <td>0</td>\n",
       "    </tr>\n",
       "    <tr>\n",
       "      <th>11632</th>\n",
       "      <td>122632</td>\n",
       "      <td>2014-12-16</td>\n",
       "      <td>2</td>\n",
       "      <td>2</td>\n",
       "      <td>1.0</td>\n",
       "      <td>4</td>\n",
       "      <td>1</td>\n",
       "      <td>2</td>\n",
       "      <td>5.0</td>\n",
       "      <td>0</td>\n",
       "      <td>0</td>\n",
       "      <td>0.0</td>\n",
       "      <td>0</td>\n",
       "      <td>NaN</td>\n",
       "      <td>0</td>\n",
       "      <td>NaN</td>\n",
       "      <td>0</td>\n",
       "    </tr>\n",
       "    <tr>\n",
       "      <th>11633</th>\n",
       "      <td>122633</td>\n",
       "      <td>2016-01-20</td>\n",
       "      <td>2</td>\n",
       "      <td>2</td>\n",
       "      <td>1.0</td>\n",
       "      <td>4</td>\n",
       "      <td>1</td>\n",
       "      <td>2</td>\n",
       "      <td>3.0</td>\n",
       "      <td>0</td>\n",
       "      <td>0</td>\n",
       "      <td>0.0</td>\n",
       "      <td>0</td>\n",
       "      <td>NaN</td>\n",
       "      <td>0</td>\n",
       "      <td>NaN</td>\n",
       "      <td>0</td>\n",
       "    </tr>\n",
       "  </tbody>\n",
       "</table>\n",
       "</div>"
      ],
      "text/plain": [
       "       HouseholdId ObseravtionDate  WaterSource  Toilet  ConnectedToGrid  \\\n",
       "11629       122629      2015-12-16            2       2              1.0   \n",
       "11630       122630      2016-05-05            2       2              1.0   \n",
       "11631       122631      2015-12-09            2       1              1.0   \n",
       "11632       122632      2014-12-16            2       2              1.0   \n",
       "11633       122633      2016-01-20            2       2              1.0   \n",
       "\n",
       "       CookingFuel  WallMaterial  FloorMaterial  Bedrooms  Crime  \\\n",
       "11629            4             1              2       3.0      0   \n",
       "11630            4             1              2       6.0      0   \n",
       "11631            4             1              2       2.0      0   \n",
       "11632            4             1              2       5.0      0   \n",
       "11633            4             1              2       3.0      0   \n",
       "\n",
       "       FinancialStatus  CutMeals  CutMealsFrequency  NotEat  NotEatFrequency  \\\n",
       "11629                0       0.0                  0     NaN                0   \n",
       "11630                0       0.0                  0     NaN                0   \n",
       "11631                0       0.0                  0     NaN                0   \n",
       "11632                0       0.0                  0     NaN                0   \n",
       "11633                0       0.0                  0     NaN                0   \n",
       "\n",
       "       ChildMealSkipCut  ChildMealSkipCutFrequency  \n",
       "11629               NaN                          0  \n",
       "11630               NaN                          0  \n",
       "11631               NaN                          0  \n",
       "11632               NaN                          0  \n",
       "11633               NaN                          0  "
      ]
     },
     "execution_count": 6,
     "metadata": {},
     "output_type": "execute_result"
    }
   ],
   "source": [
    "data.tail()"
   ]
  },
  {
   "cell_type": "code",
   "execution_count": 7,
   "metadata": {},
   "outputs": [
    {
     "data": {
      "text/html": [
       "<div>\n",
       "<style scoped>\n",
       "    .dataframe tbody tr th:only-of-type {\n",
       "        vertical-align: middle;\n",
       "    }\n",
       "\n",
       "    .dataframe tbody tr th {\n",
       "        vertical-align: top;\n",
       "    }\n",
       "\n",
       "    .dataframe thead th {\n",
       "        text-align: right;\n",
       "    }\n",
       "</style>\n",
       "<table border=\"1\" class=\"dataframe\">\n",
       "  <thead>\n",
       "    <tr style=\"text-align: right;\">\n",
       "      <th></th>\n",
       "      <th>missing_percent</th>\n",
       "      <th>count</th>\n",
       "      <th>dtypes</th>\n",
       "    </tr>\n",
       "  </thead>\n",
       "  <tbody>\n",
       "    <tr>\n",
       "      <th>HouseholdId</th>\n",
       "      <td>0.000000</td>\n",
       "      <td>0</td>\n",
       "      <td>int64</td>\n",
       "    </tr>\n",
       "    <tr>\n",
       "      <th>ObseravtionDate</th>\n",
       "      <td>0.000000</td>\n",
       "      <td>0</td>\n",
       "      <td>datetime64[ns]</td>\n",
       "    </tr>\n",
       "    <tr>\n",
       "      <th>WaterSource</th>\n",
       "      <td>0.000000</td>\n",
       "      <td>0</td>\n",
       "      <td>int64</td>\n",
       "    </tr>\n",
       "    <tr>\n",
       "      <th>Toilet</th>\n",
       "      <td>0.000000</td>\n",
       "      <td>0</td>\n",
       "      <td>int64</td>\n",
       "    </tr>\n",
       "    <tr>\n",
       "      <th>ConnectedToGrid</th>\n",
       "      <td>3.489771</td>\n",
       "      <td>406</td>\n",
       "      <td>float64</td>\n",
       "    </tr>\n",
       "    <tr>\n",
       "      <th>CookingFuel</th>\n",
       "      <td>0.000000</td>\n",
       "      <td>0</td>\n",
       "      <td>int64</td>\n",
       "    </tr>\n",
       "    <tr>\n",
       "      <th>WallMaterial</th>\n",
       "      <td>0.000000</td>\n",
       "      <td>0</td>\n",
       "      <td>int64</td>\n",
       "    </tr>\n",
       "    <tr>\n",
       "      <th>FloorMaterial</th>\n",
       "      <td>0.000000</td>\n",
       "      <td>0</td>\n",
       "      <td>int64</td>\n",
       "    </tr>\n",
       "    <tr>\n",
       "      <th>Bedrooms</th>\n",
       "      <td>2.148874</td>\n",
       "      <td>250</td>\n",
       "      <td>float64</td>\n",
       "    </tr>\n",
       "    <tr>\n",
       "      <th>Crime</th>\n",
       "      <td>0.000000</td>\n",
       "      <td>0</td>\n",
       "      <td>int64</td>\n",
       "    </tr>\n",
       "    <tr>\n",
       "      <th>FinancialStatus</th>\n",
       "      <td>0.000000</td>\n",
       "      <td>0</td>\n",
       "      <td>int64</td>\n",
       "    </tr>\n",
       "    <tr>\n",
       "      <th>CutMeals</th>\n",
       "      <td>1.693313</td>\n",
       "      <td>197</td>\n",
       "      <td>float64</td>\n",
       "    </tr>\n",
       "    <tr>\n",
       "      <th>CutMealsFrequency</th>\n",
       "      <td>0.000000</td>\n",
       "      <td>0</td>\n",
       "      <td>int64</td>\n",
       "    </tr>\n",
       "    <tr>\n",
       "      <th>NotEat</th>\n",
       "      <td>98.392642</td>\n",
       "      <td>11447</td>\n",
       "      <td>float64</td>\n",
       "    </tr>\n",
       "    <tr>\n",
       "      <th>NotEatFrequency</th>\n",
       "      <td>0.000000</td>\n",
       "      <td>0</td>\n",
       "      <td>int64</td>\n",
       "    </tr>\n",
       "    <tr>\n",
       "      <th>ChildMealSkipCut</th>\n",
       "      <td>98.934159</td>\n",
       "      <td>11510</td>\n",
       "      <td>float64</td>\n",
       "    </tr>\n",
       "    <tr>\n",
       "      <th>ChildMealSkipCutFrequency</th>\n",
       "      <td>0.000000</td>\n",
       "      <td>0</td>\n",
       "      <td>int64</td>\n",
       "    </tr>\n",
       "  </tbody>\n",
       "</table>\n",
       "</div>"
      ],
      "text/plain": [
       "                           missing_percent  count          dtypes\n",
       "HouseholdId                       0.000000      0           int64\n",
       "ObseravtionDate                   0.000000      0  datetime64[ns]\n",
       "WaterSource                       0.000000      0           int64\n",
       "Toilet                            0.000000      0           int64\n",
       "ConnectedToGrid                   3.489771    406         float64\n",
       "CookingFuel                       0.000000      0           int64\n",
       "WallMaterial                      0.000000      0           int64\n",
       "FloorMaterial                     0.000000      0           int64\n",
       "Bedrooms                          2.148874    250         float64\n",
       "Crime                             0.000000      0           int64\n",
       "FinancialStatus                   0.000000      0           int64\n",
       "CutMeals                          1.693313    197         float64\n",
       "CutMealsFrequency                 0.000000      0           int64\n",
       "NotEat                           98.392642  11447         float64\n",
       "NotEatFrequency                   0.000000      0           int64\n",
       "ChildMealSkipCut                 98.934159  11510         float64\n",
       "ChildMealSkipCutFrequency         0.000000      0           int64"
      ]
     },
     "execution_count": 7,
     "metadata": {},
     "output_type": "execute_result"
    }
   ],
   "source": [
    "missing_percent = (data.isnull().sum()/data.isnull().count()*100)\n",
    "count=data.isnull().sum()\n",
    "df = pd.DataFrame({'missing_percent':missing_percent,'count':count,'dtypes':data.dtypes})\n",
    "df"
   ]
  },
  {
   "cell_type": "code",
   "execution_count": 8,
   "metadata": {},
   "outputs": [
    {
     "data": {
      "image/png": "[encoded data removed]",
      "text/plain": [
       "<Figure size 432x288 with 2 Axes>"
      ]
     },
     "metadata": {
      "needs_background": "light"
     },
     "output_type": "display_data"
    }
   ],
   "source": [
    "corr = data.corr()\n",
    "ax = sns.heatmap(\n",
    "    corr, \n",
    "    vmin=-1, vmax=1, center=0,\n",
    "    cmap=sns.diverging_palette(20, 220, n=200),\n",
    "    square=True\n",
    ")\n",
    "ax.set_xticklabels(\n",
    "    ax.get_xticklabels(),\n",
    "    rotation=45,\n",
    "    horizontalalignment='right'\n",
    ");"
   ]
  },
  {
   "cell_type": "markdown",
   "metadata": {},
   "source": [
    "Looking at the histogram above we can quickly observe that a relationship between the fininacial status and Crime at 75% correlation."
   ]
  },
  {
   "cell_type": "code",
   "execution_count": 23,
   "metadata": {},
   "outputs": [
    {
     "data": {
      "image/png": "[encoded data removed]",
      "text/plain": [
       "<Figure size 360x360 with 1 Axes>"
      ]
     },
     "metadata": {
      "needs_background": "light"
     },
     "output_type": "display_data"
    }
   ],
   "source": [
    "sns.relplot(x=\"FinancialStatus\", y=\"Crime\", data=data, kind=\"scatter\");"
   ]
  },
  {
   "cell_type": "markdown",
   "metadata": {},
   "source": [
    "It looks like alot crime occurs within the middle class group "
   ]
  },
  {
   "cell_type": "code",
   "execution_count": 9,
   "metadata": {},
   "outputs": [
    {
     "name": "stderr",
     "output_type": "stream",
     "text": [
      "C:\\Users\\venetia.mokgawa\\anaconda3\\lib\\site-packages\\seaborn\\_decorators.py:36: FutureWarning: Pass the following variables as keyword args: x, y. From version 0.12, the only valid positional argument will be `data`, and passing other arguments without an explicit keyword will result in an error or misinterpretation.\n",
      "  warnings.warn(\n"
     ]
    },
    {
     "data": {
      "text/plain": [
       "Text(0.5, 1.0, 'Percentage of financial status in each household')"
      ]
     },
     "execution_count": 9,
     "metadata": {},
     "output_type": "execute_result"
    },
    {
     "data": {
      "image/png": "[encoded data removed]",
      "text/plain": [
       "<Figure size 720x432 with 1 Axes>"
      ]
     },
     "metadata": {
      "needs_background": "light"
     },
     "output_type": "display_data"
    }
   ],
   "source": [
    "#Ploting barplot for target \n",
    "plt.figure(figsize=(10,6))\n",
    "g = sns.barplot(data['FinancialStatus'], data['FinancialStatus'], palette='Set1', estimator=lambda x: len(x) / len(data) )\n",
    "\n",
    "#Anotating the graph\n",
    "for p in g.patches:\n",
    "        width, height = p.get_width(), p.get_height()\n",
    "        x, y = p.get_xy() \n",
    "        g.text(x+width/2, \n",
    "               y+height, \n",
    "               '{:.0%}'.format(height), \n",
    "               horizontalalignment='center',fontsize=15)\n",
    "\n",
    "#Setting the labels\n",
    "plt.xlabel('Finance Status categories', fontsize=14)\n",
    "plt.ylabel('Percentage', fontsize=14)\n",
    "plt.title('Percentage of financial status in each household', fontsize=16)"
   ]
  },
  {
   "cell_type": "code",
   "execution_count": 10,
   "metadata": {},
   "outputs": [
    {
     "data": {
      "text/plain": [
       "4    9525\n",
       "1    1082\n",
       "5     534\n",
       "0     396\n",
       "2      77\n",
       "3      20\n",
       "Name: CookingFuel, dtype: int64"
      ]
     },
     "execution_count": 10,
     "metadata": {},
     "output_type": "execute_result"
    }
   ],
   "source": [
    "data['CookingFuel'].value_counts()"
   ]
  },
  {
   "cell_type": "markdown",
   "metadata": {},
   "source": [
    "0 - Missing/Refused\n",
    "\n",
    "1 - Wood\n",
    "\n",
    "2 - Gas (LPG)\n",
    "\n",
    "3 - Coal\n",
    "\n",
    "4 - Electricity\n",
    "\n",
    "5 - Paraffin"
   ]
  },
  {
   "cell_type": "code",
   "execution_count": 12,
   "metadata": {},
   "outputs": [
    {
     "data": {
      "text/plain": [
       "<seaborn.axisgrid.FacetGrid at 0x1d4e04147c0>"
      ]
     },
     "execution_count": 12,
     "metadata": {},
     "output_type": "execute_result"
    },
    {
     "data": {
      "image/png": "[encoded data removed]",
      "text/plain": [
       "<Figure size 360x360 with 1 Axes>"
      ]
     },
     "metadata": {
      "needs_background": "light"
     },
     "output_type": "display_data"
    }
   ],
   "source": [
    "sns.catplot(data=data,x='CookingFuel',kind='count')"
   ]
  },
  {
   "cell_type": "code",
   "execution_count": 13,
   "metadata": {},
   "outputs": [
    {
     "data": {
      "text/plain": [
       "1.0    10551\n",
       "0.0      677\n",
       "Name: ConnectedToGrid, dtype: int64"
      ]
     },
     "execution_count": 13,
     "metadata": {},
     "output_type": "execute_result"
    }
   ],
   "source": [
    "data['ConnectedToGrid'].value_counts()"
   ]
  },
  {
   "cell_type": "markdown",
   "metadata": {},
   "source": [
    "1-Yes\n",
    "\n",
    "2-No"
   ]
  },
  {
   "cell_type": "code",
   "execution_count": 15,
   "metadata": {},
   "outputs": [],
   "source": [
    "data['ConnectedToGrid'].fillna(data['ConnectedToGrid'].mode()[0], inplace=True)\n",
    "data['ConnectedToGrid'] = data['ConnectedToGrid'].astype('Int64')"
   ]
  },
  {
   "cell_type": "code",
   "execution_count": 16,
   "metadata": {},
   "outputs": [
    {
     "data": {
      "text/plain": [
       "<seaborn.axisgrid.FacetGrid at 0x1d4e0804490>"
      ]
     },
     "execution_count": 16,
     "metadata": {},
     "output_type": "execute_result"
    },
    {
     "data": {
      "image/png": "[encoded data removed]",
      "text/plain": [
       "<Figure size 360x360 with 1 Axes>"
      ]
     },
     "metadata": {
      "needs_background": "light"
     },
     "output_type": "display_data"
    }
   ],
   "source": [
    "sns.catplot(data=data,x='ConnectedToGrid',kind='count')"
   ]
  },
  {
   "cell_type": "code",
   "execution_count": 17,
   "metadata": {},
   "outputs": [
    {
     "data": {
      "text/plain": [
       "1     5619\n",
       "2     4867\n",
       "0      333\n",
       "8      233\n",
       "10     187\n",
       "3      171\n",
       "6      152\n",
       "4       42\n",
       "7       21\n",
       "11       9\n",
       "Name: WaterSource, dtype: int64"
      ]
     },
     "execution_count": 17,
     "metadata": {},
     "output_type": "execute_result"
    }
   ],
   "source": [
    "data['WaterSource'].value_counts()"
   ]
  },
  {
   "cell_type": "code",
   "execution_count": 19,
   "metadata": {},
   "outputs": [
    {
     "data": {
      "text/plain": [
       "Text(0, 0.5, 'Count of the Water Source Households')"
      ]
     },
     "execution_count": 19,
     "metadata": {},
     "output_type": "execute_result"
    },
    {
     "data": {
      "image/png": "[encoded data removed]",
      "text/plain": [
       "<Figure size 432x288 with 1 Axes>"
      ]
     },
     "metadata": {
      "needs_background": "light"
     },
     "output_type": "display_data"
    }
   ],
   "source": [
    "data['WaterSource'].value_counts().plot(kind='bar')\n",
    "plt.title(\"Water Source\")\n",
    "plt.xlabel('Variables describing different Water Source')\n",
    "plt.ylabel('Count of the Water Source Households')"
   ]
  },
  {
   "cell_type": "markdown",
   "metadata": {},
   "source": [
    "The values below shows us the description of the different variables of the Water Source. Here it is observable that the house/stand that are available in the dataset are mostly piped. \n",
    "\n",
    "- 0 - Missing/Refused\n",
    "- 1 - Piped – to stand/house\n",
    "- 2 - Piped – Public tap/kiosk\n",
    "- 3 - Borehole/well\n",
    "- 4 - Rainwater\n",
    "- 5 - Flowing river/stream\n",
    "- 6 - Dam/standing water\n",
    "- 7 - Protected spring\n",
    "- 8 - Water carrier or tanker\n",
    "- 10 - Other purified watersource\n",
    "- 11 - Other unpurified watersource"
   ]
  },
  {
   "cell_type": "markdown",
   "metadata": {},
   "source": [
    "**Water Source Analysis**\n",
    "\n",
    "There are water sources connected to households and in many of these can be observed on the bar plot above and the description below it. Surface water includes rivers and lakes, and is often used for large urban water supply. Whereas, Many rural communities are solely dependent on groundwater for their water supply. The bar plot ('Water Source') depicts water to is mostly distributed to households via pipes which can be consired as connected to rivers, dams and lakes. It is worth noting that in these households they receive small amounts of water directly from Rainwater (0.\n",
    "4 %), Protected spring (0.2 %), and Other unpurified watersource (0.1 %). It is understandable that these sources provide the least amount of water directly as South Africa's rainfall is approximately 490 mm per year and is considered as half of the world's average."
   ]
  },
  {
   "cell_type": "code",
   "execution_count": 22,
   "metadata": {},
   "outputs": [
    {
     "data": {
      "image/png": "[encoded data removed]",
      "text/plain": [
       "<IPython.core.display.Image object>"
      ]
     },
     "execution_count": 22,
     "metadata": {},
     "output_type": "execute_result"
    }
   ],
   "source": [
    "from IPython.display import Image\n",
    "Image(\"picture.png\")"
   ]
  },
  {
   "cell_type": "markdown",
   "metadata": {},
   "source": [
    "Between 2001 and 2011, the percentage of households with piped water has increased to 46.3 %. This census includes households in both urban and rural. Since most of the water is distributed to the citizens of South Africa through pipes, there are issues that arises and needs to dealt with. That is, \"Preventing, monitoring and repairing water leaks in deep rural areas poses a significant challenge. Leakages are caused by anything from burst or blocked pipes to taps that are left running. As a water-scarce country, we urgently need to bring down the 37% of water losses that occur in most South African municipalities.\"\n",
    "\n",
    "\n",
    "Currently, South Africa is using water within their natural supply’s limits (they are using 98 percent of their predicted total resources). Unfortunately, they are not using it efficiently. In addition to the stolen or lost water, South Africa is also losing over 1.5 billion cubic meters of water a year due to faulty piping infrastructure that has outlived its lifespan [7]. Ideally, broken pipes would be replaced and updated as necessary. However, funds may not be available for this all at once.\n",
    "\n",
    "\n",
    "South Africa will face serious water problems if steps are not taken to increase the country’s efficiency of water use or or ability to distribute water to its people. Mission 2017 believes that the solutions outlined above, including the use of water meters and truck delivery routes, will greatly reduce the amount of water being wasted or lost."
   ]
  },
  {
   "cell_type": "markdown",
   "metadata": {},
   "source": [
    "# Investigating Toilets"
   ]
  },
  {
   "cell_type": "markdown",
   "metadata": {},
   "source": [
    "Line of thought:\n",
    "    The government usually develop polices to provide toilets to underdeveloped areas for the purposes of \n",
    "    ensuring heigen and sanitation for all. It is important to know which toilet systems will most likely\n",
    "    be appreciated by each community before rolling out such. so the following are of interest to us:-\n",
    "    \n",
    "    What's the distribution of each toilet category? \n",
    "    How does watersource compare the toilet being used? \n",
    "    Background investigation on the most used toilet category used? "
   ]
  },
  {
   "cell_type": "code",
   "execution_count": 4,
   "metadata": {},
   "outputs": [
    {
     "data": {
      "text/plain": [
       "(array([ 374.,    0.,  357.,    0., 7851.,    0., 2950.,    0.,   86.,\n",
       "          16.]),\n",
       " array([0. , 0.5, 1. , 1.5, 2. , 2.5, 3. , 3.5, 4. , 4.5, 5. ]),\n",
       " <BarContainer object of 10 artists>)"
      ]
     },
     "execution_count": 4,
     "metadata": {},
     "output_type": "execute_result"
    },
    {
     "data": {
      "image/png": "[encoded data removed]",
      "text/plain": [
       "<Figure size 432x288 with 1 Axes>"
      ]
     },
     "metadata": {
      "needs_background": "light"
     },
     "output_type": "display_data"
    }
   ],
   "source": [
    "plt.hist(data['Toilet'])"
   ]
  },
  {
   "cell_type": "markdown",
   "metadata": {},
   "source": [
    "Observation:\n",
    "Variable(s): Toilet\n",
    "---\n",
    "* 0 - Missing/Refused\n",
    "* 1 - Flush\n",
    "* 2 - Ventilated Improved Pit\n",
    "* 3 - Other Pit Latrine\n",
    "* 4 - Bucket\n",
    "* 5 - Chemical\n",
    "\n",
    "---\n",
    "\n",
    "* Pit toilets dominates all other categories, with just about 500 toilets using flushing system. \n",
    "* This suggests the data to be from an area that is still underdeveloped, as it can be seen that even the bucket and "
   ]
  },
  {
   "cell_type": "code",
   "execution_count": null,
   "metadata": {},
   "outputs": [],
   "source": []
  }
 ],
 "metadata": {
  "kernelspec": {
   "display_name": "Python 3",
   "language": "python",
   "name": "python3"
  },
  "language_info": {
   "codemirror_mode": {
    "name": "ipython",
    "version": 3
   },
   "file_extension": ".py",
   "mimetype": "text/x-python",
   "name": "python",
   "nbconvert_exporter": "python",
   "pygments_lexer": "ipython3",
   "version": "3.8.5"
  }
 },
 "nbformat": 4,
 "nbformat_minor": 4
}
